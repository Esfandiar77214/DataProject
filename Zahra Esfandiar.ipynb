{
 "cells": [
  {
   "cell_type": "markdown",
   "id": "2440c1c5",
   "metadata": {},
   "source": [
    "Notbook "
   ]
  },
  {
   "cell_type": "markdown",
   "id": "13a1a997",
   "metadata": {},
   "source": [
    "3:This cells for Introdutions\n",
    "In this notebook, Data Science Tools and Ecosystem are summarized.\n",
    "\n",
    "Objectives:\n",
    "\n",
    "List popular languages that Data Scientists use.\n",
    "List commonly used libraries used by Data Scientists.\n",
    "Comment on Data Science tools."
   ]
  },
  {
   "cell_type": "markdown",
   "id": "373e25e3",
   "metadata": {},
   "source": [
    "4:Some of the popular languages that Data Scientists use are:\n",
    "\n",
    "Python.\n",
    "R.\n",
    "SQL.\n",
    "Java.\n",
    "Julia.\n",
    "Scala.\n",
    "C/C++.\n",
    "JavaScript."
   ]
  },
  {
   "cell_type": "markdown",
   "id": "d2bee8a9",
   "metadata": {},
   "source": [
    "5 : Some of the commonly used libraries used by Data Scientists include:\n",
    "\n",
    "TensorFlow.\n",
    "NumPy.\n",
    "SciPy.\n",
    "Pandas.\n",
    "Matplotlib.\n",
    "Keras.\n",
    "SciKit-Learn.\n",
    "PyTorch.\n",
    "Scrapy.\n",
    "BeautifulSoup.\n",
    "LightGBM.\n",
    "ELI5.\n",
    "Theano.\n",
    "NuPIC.\n",
    "Ramp.\n",
    "Pipenv.\n",
    "Bob.\n",
    "PyBrain.\n",
    "Caffe2.\n",
    "Chainer."
   ]
  },
  {
   "cell_type": "raw",
   "id": "9a7991ac",
   "metadata": {},
   "source": [
    "6: Data Science Tools:\n",
    "\n",
    "Data Science Tools\t\t\n",
    "SAS. It is one of those data science tools which are specifically designed for statistical operation\t\t\n",
    "Apache Spark\t\t\n",
    "BigML"
   ]
  },
  {
   "cell_type": "markdown",
   "id": "d223c8aa",
   "metadata": {},
   "source": [
    "7 : ntroducing arithmetic expression examples"
   ]
  }
 ],
 "metadata": {
  "kernelspec": {
   "display_name": "R",
   "language": "R",
   "name": "ir"
  },
  "language_info": {
   "codemirror_mode": "r",
   "file_extension": ".r",
   "mimetype": "text/x-r-source",
   "name": "R",
   "pygments_lexer": "r",
   "version": "4.3.0"
  }
 },
 "nbformat": 4,
 "nbformat_minor": 5
}
